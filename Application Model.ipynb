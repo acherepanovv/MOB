{
 "cells": [
  {
   "cell_type": "markdown",
   "metadata": {},
   "source": [
    "# Application Model"
   ]
  },
  {
   "cell_type": "code",
   "execution_count": 1,
   "metadata": {},
   "outputs": [],
   "source": [
    "import pandas as pd\n",
    "import numpy as np \n",
    "import matplotlib.pyplot as plt\n",
    "from sklearn.metrics import roc_auc_score\n",
    "from sklearn.metrics import roc_curve\n",
    "from sklearn.metrics import average_precision_score\n",
    "from sklearn.metrics import precision_recall_curve\n",
    "from catboost import CatBoostClassifier\n",
    "from sklearn.model_selection import train_test_split\n",
    "import shap\n",
    "import ast\n",
    "from sklearn.linear_model import LogisticRegression\n",
    "import warnings\n",
    "warnings.filterwarnings(\"ignore\")"
   ]
  },
  {
   "cell_type": "code",
   "execution_count": 2,
   "metadata": {},
   "outputs": [],
   "source": [
    "from mobpy import *\n",
    "from select_feature import *"
   ]
  },
  {
   "cell_type": "code",
   "execution_count": 3,
   "metadata": {},
   "outputs": [],
   "source": [
    "data = pd.read_csv('cs-training.csv')"
   ]
  },
  {
   "cell_type": "code",
   "execution_count": 4,
   "metadata": {},
   "outputs": [
    {
     "data": {
      "text/html": [
       "<div>\n",
       "<style scoped>\n",
       "    .dataframe tbody tr th:only-of-type {\n",
       "        vertical-align: middle;\n",
       "    }\n",
       "\n",
       "    .dataframe tbody tr th {\n",
       "        vertical-align: top;\n",
       "    }\n",
       "\n",
       "    .dataframe thead th {\n",
       "        text-align: right;\n",
       "    }\n",
       "</style>\n",
       "<table border=\"1\" class=\"dataframe\">\n",
       "  <thead>\n",
       "    <tr style=\"text-align: right;\">\n",
       "      <th></th>\n",
       "      <th>Unnamed: 0</th>\n",
       "      <th>SeriousDlqin2yrs</th>\n",
       "      <th>RevolvingUtilizationOfUnsecuredLines</th>\n",
       "      <th>age</th>\n",
       "      <th>NumberOfTime30-59DaysPastDueNotWorse</th>\n",
       "      <th>DebtRatio</th>\n",
       "      <th>MonthlyIncome</th>\n",
       "      <th>NumberOfOpenCreditLinesAndLoans</th>\n",
       "      <th>NumberOfTimes90DaysLate</th>\n",
       "      <th>NumberRealEstateLoansOrLines</th>\n",
       "      <th>NumberOfTime60-89DaysPastDueNotWorse</th>\n",
       "      <th>NumberOfDependents</th>\n",
       "    </tr>\n",
       "  </thead>\n",
       "  <tbody>\n",
       "    <tr>\n",
       "      <th>0</th>\n",
       "      <td>1</td>\n",
       "      <td>1</td>\n",
       "      <td>0.766127</td>\n",
       "      <td>45</td>\n",
       "      <td>2</td>\n",
       "      <td>0.802982</td>\n",
       "      <td>9120.0</td>\n",
       "      <td>13</td>\n",
       "      <td>0</td>\n",
       "      <td>6</td>\n",
       "      <td>0</td>\n",
       "      <td>2.0</td>\n",
       "    </tr>\n",
       "    <tr>\n",
       "      <th>1</th>\n",
       "      <td>2</td>\n",
       "      <td>0</td>\n",
       "      <td>0.957151</td>\n",
       "      <td>40</td>\n",
       "      <td>0</td>\n",
       "      <td>0.121876</td>\n",
       "      <td>2600.0</td>\n",
       "      <td>4</td>\n",
       "      <td>0</td>\n",
       "      <td>0</td>\n",
       "      <td>0</td>\n",
       "      <td>1.0</td>\n",
       "    </tr>\n",
       "    <tr>\n",
       "      <th>2</th>\n",
       "      <td>3</td>\n",
       "      <td>0</td>\n",
       "      <td>0.658180</td>\n",
       "      <td>38</td>\n",
       "      <td>1</td>\n",
       "      <td>0.085113</td>\n",
       "      <td>3042.0</td>\n",
       "      <td>2</td>\n",
       "      <td>1</td>\n",
       "      <td>0</td>\n",
       "      <td>0</td>\n",
       "      <td>0.0</td>\n",
       "    </tr>\n",
       "    <tr>\n",
       "      <th>3</th>\n",
       "      <td>4</td>\n",
       "      <td>0</td>\n",
       "      <td>0.233810</td>\n",
       "      <td>30</td>\n",
       "      <td>0</td>\n",
       "      <td>0.036050</td>\n",
       "      <td>3300.0</td>\n",
       "      <td>5</td>\n",
       "      <td>0</td>\n",
       "      <td>0</td>\n",
       "      <td>0</td>\n",
       "      <td>0.0</td>\n",
       "    </tr>\n",
       "    <tr>\n",
       "      <th>4</th>\n",
       "      <td>5</td>\n",
       "      <td>0</td>\n",
       "      <td>0.907239</td>\n",
       "      <td>49</td>\n",
       "      <td>1</td>\n",
       "      <td>0.024926</td>\n",
       "      <td>63588.0</td>\n",
       "      <td>7</td>\n",
       "      <td>0</td>\n",
       "      <td>1</td>\n",
       "      <td>0</td>\n",
       "      <td>0.0</td>\n",
       "    </tr>\n",
       "  </tbody>\n",
       "</table>\n",
       "</div>"
      ],
      "text/plain": [
       "   Unnamed: 0  SeriousDlqin2yrs  RevolvingUtilizationOfUnsecuredLines  age  \\\n",
       "0           1                 1                              0.766127   45   \n",
       "1           2                 0                              0.957151   40   \n",
       "2           3                 0                              0.658180   38   \n",
       "3           4                 0                              0.233810   30   \n",
       "4           5                 0                              0.907239   49   \n",
       "\n",
       "   NumberOfTime30-59DaysPastDueNotWorse  DebtRatio  MonthlyIncome  \\\n",
       "0                                     2   0.802982         9120.0   \n",
       "1                                     0   0.121876         2600.0   \n",
       "2                                     1   0.085113         3042.0   \n",
       "3                                     0   0.036050         3300.0   \n",
       "4                                     1   0.024926        63588.0   \n",
       "\n",
       "   NumberOfOpenCreditLinesAndLoans  NumberOfTimes90DaysLate  \\\n",
       "0                               13                        0   \n",
       "1                                4                        0   \n",
       "2                                2                        1   \n",
       "3                                5                        0   \n",
       "4                                7                        0   \n",
       "\n",
       "   NumberRealEstateLoansOrLines  NumberOfTime60-89DaysPastDueNotWorse  \\\n",
       "0                             6                                     0   \n",
       "1                             0                                     0   \n",
       "2                             0                                     0   \n",
       "3                             0                                     0   \n",
       "4                             1                                     0   \n",
       "\n",
       "   NumberOfDependents  \n",
       "0                 2.0  \n",
       "1                 1.0  \n",
       "2                 0.0  \n",
       "3                 0.0  \n",
       "4                 0.0  "
      ]
     },
     "execution_count": 4,
     "metadata": {},
     "output_type": "execute_result"
    }
   ],
   "source": [
    "data.head()"
   ]
  },
  {
   "cell_type": "code",
   "execution_count": 5,
   "metadata": {},
   "outputs": [
    {
     "data": {
      "text/plain": [
       "(150000, 12)"
      ]
     },
     "execution_count": 5,
     "metadata": {},
     "output_type": "execute_result"
    }
   ],
   "source": [
    "data.shape"
   ]
  },
  {
   "cell_type": "code",
   "execution_count": 6,
   "metadata": {},
   "outputs": [
    {
     "data": {
      "text/plain": [
       "Index(['Unnamed: 0', 'SeriousDlqin2yrs',\n",
       "       'RevolvingUtilizationOfUnsecuredLines', 'age',\n",
       "       'NumberOfTime30-59DaysPastDueNotWorse', 'DebtRatio', 'MonthlyIncome',\n",
       "       'NumberOfOpenCreditLinesAndLoans', 'NumberOfTimes90DaysLate',\n",
       "       'NumberRealEstateLoansOrLines', 'NumberOfTime60-89DaysPastDueNotWorse',\n",
       "       'NumberOfDependents'],\n",
       "      dtype='object')"
      ]
     },
     "execution_count": 6,
     "metadata": {},
     "output_type": "execute_result"
    }
   ],
   "source": [
    "data.columns"
   ]
  },
  {
   "cell_type": "code",
   "execution_count": 7,
   "metadata": {},
   "outputs": [],
   "source": [
    "drop = ['Unnamed: 0','SeriousDlqin2yrs']"
   ]
  },
  {
   "cell_type": "code",
   "execution_count": 8,
   "metadata": {},
   "outputs": [],
   "source": [
    "X = data.drop(drop, axis=1)\n",
    "Y = data['SeriousDlqin2yrs']"
   ]
  },
  {
   "cell_type": "code",
   "execution_count": 9,
   "metadata": {},
   "outputs": [
    {
     "data": {
      "text/plain": [
       "0.06684"
      ]
     },
     "execution_count": 9,
     "metadata": {},
     "output_type": "execute_result"
    }
   ],
   "source": [
    "#MEAN DR\n",
    "np.mean(Y)"
   ]
  },
  {
   "cell_type": "code",
   "execution_count": 10,
   "metadata": {},
   "outputs": [
    {
     "data": {
      "text/html": [
       "<div>\n",
       "<style scoped>\n",
       "    .dataframe tbody tr th:only-of-type {\n",
       "        vertical-align: middle;\n",
       "    }\n",
       "\n",
       "    .dataframe tbody tr th {\n",
       "        vertical-align: top;\n",
       "    }\n",
       "\n",
       "    .dataframe thead th {\n",
       "        text-align: right;\n",
       "    }\n",
       "</style>\n",
       "<table border=\"1\" class=\"dataframe\">\n",
       "  <thead>\n",
       "    <tr style=\"text-align: right;\">\n",
       "      <th></th>\n",
       "      <th>Unnamed: 0</th>\n",
       "      <th>SeriousDlqin2yrs</th>\n",
       "      <th>RevolvingUtilizationOfUnsecuredLines</th>\n",
       "      <th>age</th>\n",
       "      <th>NumberOfTime30-59DaysPastDueNotWorse</th>\n",
       "      <th>DebtRatio</th>\n",
       "      <th>MonthlyIncome</th>\n",
       "      <th>NumberOfOpenCreditLinesAndLoans</th>\n",
       "      <th>NumberOfTimes90DaysLate</th>\n",
       "      <th>NumberRealEstateLoansOrLines</th>\n",
       "      <th>NumberOfTime60-89DaysPastDueNotWorse</th>\n",
       "      <th>NumberOfDependents</th>\n",
       "    </tr>\n",
       "  </thead>\n",
       "  <tbody>\n",
       "    <tr>\n",
       "      <th>count</th>\n",
       "      <td>150000.000000</td>\n",
       "      <td>150000.000000</td>\n",
       "      <td>150000.000000</td>\n",
       "      <td>150000.000000</td>\n",
       "      <td>150000.000000</td>\n",
       "      <td>150000.000000</td>\n",
       "      <td>1.202690e+05</td>\n",
       "      <td>150000.000000</td>\n",
       "      <td>150000.000000</td>\n",
       "      <td>150000.000000</td>\n",
       "      <td>150000.000000</td>\n",
       "      <td>146076.000000</td>\n",
       "    </tr>\n",
       "    <tr>\n",
       "      <th>mean</th>\n",
       "      <td>75000.500000</td>\n",
       "      <td>0.066840</td>\n",
       "      <td>6.048438</td>\n",
       "      <td>52.295207</td>\n",
       "      <td>0.421033</td>\n",
       "      <td>353.005076</td>\n",
       "      <td>6.670221e+03</td>\n",
       "      <td>8.452760</td>\n",
       "      <td>0.265973</td>\n",
       "      <td>1.018240</td>\n",
       "      <td>0.240387</td>\n",
       "      <td>0.757222</td>\n",
       "    </tr>\n",
       "    <tr>\n",
       "      <th>std</th>\n",
       "      <td>43301.414527</td>\n",
       "      <td>0.249746</td>\n",
       "      <td>249.755371</td>\n",
       "      <td>14.771866</td>\n",
       "      <td>4.192781</td>\n",
       "      <td>2037.818523</td>\n",
       "      <td>1.438467e+04</td>\n",
       "      <td>5.145951</td>\n",
       "      <td>4.169304</td>\n",
       "      <td>1.129771</td>\n",
       "      <td>4.155179</td>\n",
       "      <td>1.115086</td>\n",
       "    </tr>\n",
       "    <tr>\n",
       "      <th>min</th>\n",
       "      <td>1.000000</td>\n",
       "      <td>0.000000</td>\n",
       "      <td>0.000000</td>\n",
       "      <td>0.000000</td>\n",
       "      <td>0.000000</td>\n",
       "      <td>0.000000</td>\n",
       "      <td>0.000000e+00</td>\n",
       "      <td>0.000000</td>\n",
       "      <td>0.000000</td>\n",
       "      <td>0.000000</td>\n",
       "      <td>0.000000</td>\n",
       "      <td>0.000000</td>\n",
       "    </tr>\n",
       "    <tr>\n",
       "      <th>25%</th>\n",
       "      <td>37500.750000</td>\n",
       "      <td>0.000000</td>\n",
       "      <td>0.029867</td>\n",
       "      <td>41.000000</td>\n",
       "      <td>0.000000</td>\n",
       "      <td>0.175074</td>\n",
       "      <td>3.400000e+03</td>\n",
       "      <td>5.000000</td>\n",
       "      <td>0.000000</td>\n",
       "      <td>0.000000</td>\n",
       "      <td>0.000000</td>\n",
       "      <td>0.000000</td>\n",
       "    </tr>\n",
       "    <tr>\n",
       "      <th>50%</th>\n",
       "      <td>75000.500000</td>\n",
       "      <td>0.000000</td>\n",
       "      <td>0.154181</td>\n",
       "      <td>52.000000</td>\n",
       "      <td>0.000000</td>\n",
       "      <td>0.366508</td>\n",
       "      <td>5.400000e+03</td>\n",
       "      <td>8.000000</td>\n",
       "      <td>0.000000</td>\n",
       "      <td>1.000000</td>\n",
       "      <td>0.000000</td>\n",
       "      <td>0.000000</td>\n",
       "    </tr>\n",
       "    <tr>\n",
       "      <th>75%</th>\n",
       "      <td>112500.250000</td>\n",
       "      <td>0.000000</td>\n",
       "      <td>0.559046</td>\n",
       "      <td>63.000000</td>\n",
       "      <td>0.000000</td>\n",
       "      <td>0.868254</td>\n",
       "      <td>8.249000e+03</td>\n",
       "      <td>11.000000</td>\n",
       "      <td>0.000000</td>\n",
       "      <td>2.000000</td>\n",
       "      <td>0.000000</td>\n",
       "      <td>1.000000</td>\n",
       "    </tr>\n",
       "    <tr>\n",
       "      <th>max</th>\n",
       "      <td>150000.000000</td>\n",
       "      <td>1.000000</td>\n",
       "      <td>50708.000000</td>\n",
       "      <td>109.000000</td>\n",
       "      <td>98.000000</td>\n",
       "      <td>329664.000000</td>\n",
       "      <td>3.008750e+06</td>\n",
       "      <td>58.000000</td>\n",
       "      <td>98.000000</td>\n",
       "      <td>54.000000</td>\n",
       "      <td>98.000000</td>\n",
       "      <td>20.000000</td>\n",
       "    </tr>\n",
       "  </tbody>\n",
       "</table>\n",
       "</div>"
      ],
      "text/plain": [
       "          Unnamed: 0  SeriousDlqin2yrs  RevolvingUtilizationOfUnsecuredLines  \\\n",
       "count  150000.000000     150000.000000                         150000.000000   \n",
       "mean    75000.500000          0.066840                              6.048438   \n",
       "std     43301.414527          0.249746                            249.755371   \n",
       "min         1.000000          0.000000                              0.000000   \n",
       "25%     37500.750000          0.000000                              0.029867   \n",
       "50%     75000.500000          0.000000                              0.154181   \n",
       "75%    112500.250000          0.000000                              0.559046   \n",
       "max    150000.000000          1.000000                          50708.000000   \n",
       "\n",
       "                 age  NumberOfTime30-59DaysPastDueNotWorse      DebtRatio  \\\n",
       "count  150000.000000                         150000.000000  150000.000000   \n",
       "mean       52.295207                              0.421033     353.005076   \n",
       "std        14.771866                              4.192781    2037.818523   \n",
       "min         0.000000                              0.000000       0.000000   \n",
       "25%        41.000000                              0.000000       0.175074   \n",
       "50%        52.000000                              0.000000       0.366508   \n",
       "75%        63.000000                              0.000000       0.868254   \n",
       "max       109.000000                             98.000000  329664.000000   \n",
       "\n",
       "       MonthlyIncome  NumberOfOpenCreditLinesAndLoans  \\\n",
       "count   1.202690e+05                    150000.000000   \n",
       "mean    6.670221e+03                         8.452760   \n",
       "std     1.438467e+04                         5.145951   \n",
       "min     0.000000e+00                         0.000000   \n",
       "25%     3.400000e+03                         5.000000   \n",
       "50%     5.400000e+03                         8.000000   \n",
       "75%     8.249000e+03                        11.000000   \n",
       "max     3.008750e+06                        58.000000   \n",
       "\n",
       "       NumberOfTimes90DaysLate  NumberRealEstateLoansOrLines  \\\n",
       "count            150000.000000                 150000.000000   \n",
       "mean                  0.265973                      1.018240   \n",
       "std                   4.169304                      1.129771   \n",
       "min                   0.000000                      0.000000   \n",
       "25%                   0.000000                      0.000000   \n",
       "50%                   0.000000                      1.000000   \n",
       "75%                   0.000000                      2.000000   \n",
       "max                  98.000000                     54.000000   \n",
       "\n",
       "       NumberOfTime60-89DaysPastDueNotWorse  NumberOfDependents  \n",
       "count                         150000.000000       146076.000000  \n",
       "mean                               0.240387            0.757222  \n",
       "std                                4.155179            1.115086  \n",
       "min                                0.000000            0.000000  \n",
       "25%                                0.000000            0.000000  \n",
       "50%                                0.000000            0.000000  \n",
       "75%                                0.000000            1.000000  \n",
       "max                               98.000000           20.000000  "
      ]
     },
     "execution_count": 10,
     "metadata": {},
     "output_type": "execute_result"
    }
   ],
   "source": [
    "data.describe()"
   ]
  },
  {
   "cell_type": "markdown",
   "metadata": {},
   "source": [
    "# 1. Linear regression"
   ]
  },
  {
   "cell_type": "markdown",
   "metadata": {},
   "source": [
    "## Monotone Optimal Binning"
   ]
  },
  {
   "cell_type": "code",
   "execution_count": 21,
   "metadata": {},
   "outputs": [
    {
     "name": "stderr",
     "output_type": "stream",
     "text": [
      "2023-09-02 19:08:20,444 — Mobpy — DEBUG — e1: \n",
      "2023-09-02 19:08:21,112 — Mobpy — DEBUG — e1: \n"
     ]
    },
    {
     "name": "stdout",
     "output_type": "stream",
     "text": [
      "Wall time: 954 ms\n"
     ]
    }
   ],
   "source": [
    "%%time\n",
    "woe_iv_all, bad_columns = create_woe_iv(X, Y, min_bins=2, max_bins=5)"
   ]
  },
  {
   "cell_type": "code",
   "execution_count": 22,
   "metadata": {},
   "outputs": [],
   "source": [
    "# n is Number of cores\n",
    "# woe_iv_all, bad_columns = create_woe_iv_optimal(X, Y, n=2)"
   ]
  },
  {
   "cell_type": "code",
   "execution_count": 34,
   "metadata": {},
   "outputs": [
    {
     "data": {
      "text/html": [
       "<div>\n",
       "<style scoped>\n",
       "    .dataframe tbody tr th:only-of-type {\n",
       "        vertical-align: middle;\n",
       "    }\n",
       "\n",
       "    .dataframe tbody tr th {\n",
       "        vertical-align: top;\n",
       "    }\n",
       "\n",
       "    .dataframe thead th {\n",
       "        text-align: right;\n",
       "    }\n",
       "</style>\n",
       "<table border=\"1\" class=\"dataframe\">\n",
       "  <thead>\n",
       "    <tr style=\"text-align: right;\">\n",
       "      <th></th>\n",
       "      <th>VAR_NAME</th>\n",
       "      <th>BUCKET</th>\n",
       "      <th>MIN_VALUE</th>\n",
       "      <th>MAX_VALUE</th>\n",
       "      <th>SHARE</th>\n",
       "      <th>COUNT</th>\n",
       "      <th>EVENT</th>\n",
       "      <th>NON_EVENT</th>\n",
       "      <th>EVENT_RATE</th>\n",
       "      <th>NON_EVENT_RATE</th>\n",
       "      <th>DIST_EVENT</th>\n",
       "      <th>DIST_NON_EVENT</th>\n",
       "      <th>WOE</th>\n",
       "      <th>IV</th>\n",
       "    </tr>\n",
       "  </thead>\n",
       "  <tbody>\n",
       "    <tr>\n",
       "      <th>0</th>\n",
       "      <td>RevolvingUtilizationOfUnsecuredLines</td>\n",
       "      <td>(-1000000000.0, 0.0832]</td>\n",
       "      <td>0.000000</td>\n",
       "      <td>0.019222</td>\n",
       "      <td>0.4000</td>\n",
       "      <td>60000</td>\n",
       "      <td>1079.0</td>\n",
       "      <td>58921.0</td>\n",
       "      <td>0.017983</td>\n",
       "      <td>0.982017</td>\n",
       "      <td>0.107620</td>\n",
       "      <td>0.420942</td>\n",
       "      <td>1.363888</td>\n",
       "      <td>1.057914</td>\n",
       "    </tr>\n",
       "    <tr>\n",
       "      <th>1</th>\n",
       "      <td>RevolvingUtilizationOfUnsecuredLines</td>\n",
       "      <td>(0.0832, 0.271]</td>\n",
       "      <td>0.083182</td>\n",
       "      <td>0.271481</td>\n",
       "      <td>0.2000</td>\n",
       "      <td>30000</td>\n",
       "      <td>877.0</td>\n",
       "      <td>29123.0</td>\n",
       "      <td>0.029233</td>\n",
       "      <td>0.970767</td>\n",
       "      <td>0.087473</td>\n",
       "      <td>0.208060</td>\n",
       "      <td>0.866502</td>\n",
       "      <td>1.057914</td>\n",
       "    </tr>\n",
       "    <tr>\n",
       "      <th>2</th>\n",
       "      <td>RevolvingUtilizationOfUnsecuredLines</td>\n",
       "      <td>(0.271, 0.699]</td>\n",
       "      <td>0.271510</td>\n",
       "      <td>0.698855</td>\n",
       "      <td>0.2000</td>\n",
       "      <td>30000</td>\n",
       "      <td>2107.0</td>\n",
       "      <td>27893.0</td>\n",
       "      <td>0.070233</td>\n",
       "      <td>0.929767</td>\n",
       "      <td>0.210154</td>\n",
       "      <td>0.199273</td>\n",
       "      <td>-0.053164</td>\n",
       "      <td>1.057914</td>\n",
       "    </tr>\n",
       "    <tr>\n",
       "      <th>3</th>\n",
       "      <td>RevolvingUtilizationOfUnsecuredLines</td>\n",
       "      <td>(0.699, 1000000000.0]</td>\n",
       "      <td>0.698866</td>\n",
       "      <td>50708.000000</td>\n",
       "      <td>0.2000</td>\n",
       "      <td>30000</td>\n",
       "      <td>5963.0</td>\n",
       "      <td>24037.0</td>\n",
       "      <td>0.198767</td>\n",
       "      <td>0.801233</td>\n",
       "      <td>0.594754</td>\n",
       "      <td>0.171725</td>\n",
       "      <td>-1.242254</td>\n",
       "      <td>1.057914</td>\n",
       "    </tr>\n",
       "    <tr>\n",
       "      <th>4</th>\n",
       "      <td>age</td>\n",
       "      <td>(-1000000000.0, 36.0]</td>\n",
       "      <td>0.000000</td>\n",
       "      <td>29.000000</td>\n",
       "      <td>0.1591</td>\n",
       "      <td>23865</td>\n",
       "      <td>2628.0</td>\n",
       "      <td>21237.0</td>\n",
       "      <td>0.110119</td>\n",
       "      <td>0.889881</td>\n",
       "      <td>0.262118</td>\n",
       "      <td>0.151721</td>\n",
       "      <td>-0.546753</td>\n",
       "      <td>0.252552</td>\n",
       "    </tr>\n",
       "  </tbody>\n",
       "</table>\n",
       "</div>"
      ],
      "text/plain": [
       "                               VAR_NAME                   BUCKET  MIN_VALUE  \\\n",
       "0  RevolvingUtilizationOfUnsecuredLines  (-1000000000.0, 0.0832]   0.000000   \n",
       "1  RevolvingUtilizationOfUnsecuredLines          (0.0832, 0.271]   0.083182   \n",
       "2  RevolvingUtilizationOfUnsecuredLines           (0.271, 0.699]   0.271510   \n",
       "3  RevolvingUtilizationOfUnsecuredLines    (0.699, 1000000000.0]   0.698866   \n",
       "4                                   age    (-1000000000.0, 36.0]   0.000000   \n",
       "\n",
       "      MAX_VALUE   SHARE  COUNT   EVENT  NON_EVENT  EVENT_RATE  NON_EVENT_RATE  \\\n",
       "0      0.019222  0.4000  60000  1079.0    58921.0    0.017983        0.982017   \n",
       "1      0.271481  0.2000  30000   877.0    29123.0    0.029233        0.970767   \n",
       "2      0.698855  0.2000  30000  2107.0    27893.0    0.070233        0.929767   \n",
       "3  50708.000000  0.2000  30000  5963.0    24037.0    0.198767        0.801233   \n",
       "4     29.000000  0.1591  23865  2628.0    21237.0    0.110119        0.889881   \n",
       "\n",
       "   DIST_EVENT  DIST_NON_EVENT       WOE        IV  \n",
       "0    0.107620        0.420942  1.363888  1.057914  \n",
       "1    0.087473        0.208060  0.866502  1.057914  \n",
       "2    0.210154        0.199273 -0.053164  1.057914  \n",
       "3    0.594754        0.171725 -1.242254  1.057914  \n",
       "4    0.262118        0.151721 -0.546753  0.252552  "
      ]
     },
     "execution_count": 34,
     "metadata": {},
     "output_type": "execute_result"
    }
   ],
   "source": [
    "woe_iv_all.head()"
   ]
  },
  {
   "cell_type": "code",
   "execution_count": 35,
   "metadata": {},
   "outputs": [],
   "source": [
    "# Filter feature(iv>0.5)\n",
    "IV = pd.DataFrame({'IV':woe_iv_all.groupby('VAR_NAME').IV.max()})\n",
    "IV_GOOD = IV[\n",
    "    (IV['IV']>0.05)\n",
    "#              &\n",
    "#              (IV['IV']<0.95)\n",
    "].sort_values('IV', ascending=False)"
   ]
  },
  {
   "cell_type": "code",
   "execution_count": 36,
   "metadata": {},
   "outputs": [
    {
     "data": {
      "text/html": [
       "<div>\n",
       "<style scoped>\n",
       "    .dataframe tbody tr th:only-of-type {\n",
       "        vertical-align: middle;\n",
       "    }\n",
       "\n",
       "    .dataframe tbody tr th {\n",
       "        vertical-align: top;\n",
       "    }\n",
       "\n",
       "    .dataframe thead th {\n",
       "        text-align: right;\n",
       "    }\n",
       "</style>\n",
       "<table border=\"1\" class=\"dataframe\">\n",
       "  <thead>\n",
       "    <tr style=\"text-align: right;\">\n",
       "      <th></th>\n",
       "      <th>VAR_NAME</th>\n",
       "      <th>IV</th>\n",
       "    </tr>\n",
       "  </thead>\n",
       "  <tbody>\n",
       "    <tr>\n",
       "      <th>0</th>\n",
       "      <td>RevolvingUtilizationOfUnsecuredLines</td>\n",
       "      <td>1.057914</td>\n",
       "    </tr>\n",
       "    <tr>\n",
       "      <th>1</th>\n",
       "      <td>NumberOfTime30-59DaysPastDueNotWorse</td>\n",
       "      <td>0.665194</td>\n",
       "    </tr>\n",
       "    <tr>\n",
       "      <th>2</th>\n",
       "      <td>NumberOfTime60-89DaysPastDueNotWorse</td>\n",
       "      <td>0.572373</td>\n",
       "    </tr>\n",
       "    <tr>\n",
       "      <th>3</th>\n",
       "      <td>age</td>\n",
       "      <td>0.252552</td>\n",
       "    </tr>\n",
       "    <tr>\n",
       "      <th>4</th>\n",
       "      <td>MonthlyIncome</td>\n",
       "      <td>0.070257</td>\n",
       "    </tr>\n",
       "  </tbody>\n",
       "</table>\n",
       "</div>"
      ],
      "text/plain": [
       "                               VAR_NAME        IV\n",
       "0  RevolvingUtilizationOfUnsecuredLines  1.057914\n",
       "1  NumberOfTime30-59DaysPastDueNotWorse  0.665194\n",
       "2  NumberOfTime60-89DaysPastDueNotWorse  0.572373\n",
       "3                                   age  0.252552\n",
       "4                         MonthlyIncome  0.070257"
      ]
     },
     "execution_count": 36,
     "metadata": {},
     "output_type": "execute_result"
    }
   ],
   "source": [
    "IV_GOOD.reset_index()"
   ]
  },
  {
   "cell_type": "code",
   "execution_count": 37,
   "metadata": {},
   "outputs": [],
   "source": [
    "GOOD_IV_FEATURE = list(IV_GOOD.index)"
   ]
  },
  {
   "cell_type": "code",
   "execution_count": 38,
   "metadata": {},
   "outputs": [
    {
     "data": {
      "text/plain": [
       "['RevolvingUtilizationOfUnsecuredLines',\n",
       " 'NumberOfTime30-59DaysPastDueNotWorse',\n",
       " 'NumberOfTime60-89DaysPastDueNotWorse',\n",
       " 'age',\n",
       " 'MonthlyIncome']"
      ]
     },
     "execution_count": 38,
     "metadata": {},
     "output_type": "execute_result"
    }
   ],
   "source": [
    "GOOD_IV_FEATURE"
   ]
  },
  {
   "cell_type": "code",
   "execution_count": 39,
   "metadata": {},
   "outputs": [],
   "source": [
    "df_plot = woe_iv_all[woe_iv_all['VAR_NAME']=='age']"
   ]
  },
  {
   "cell_type": "code",
   "execution_count": 40,
   "metadata": {},
   "outputs": [
    {
     "data": {
      "image/png": "[encoded data removed]",
      "text/plain": [
       "<Figure size 432x576 with 2 Axes>"
      ]
     },
     "metadata": {
      "needs_background": "light"
     },
     "output_type": "display_data"
    }
   ],
   "source": [
    "fig, ax1 = plt.subplots(figsize=(6,8))\n",
    "ax2 = ax1.twinx()\n",
    "df_plot.plot.bar(x='BUCKET', y='SHARE', rot=0, ax=ax1)\n",
    "df_plot.plot(x='BUCKET', y='WOE', color = 'r', ax=ax2)\n",
    "plt.setp(ax1.get_xticklabels(), rotation=30, horizontalalignment='right')\n",
    "plt.show()"
   ]
  },
  {
   "cell_type": "markdown",
   "metadata": {},
   "source": [
    "## Feature Selection"
   ]
  },
  {
   "cell_type": "markdown",
   "metadata": {},
   "source": [
    "## Shap"
   ]
  },
  {
   "cell_type": "code",
   "execution_count": 41,
   "metadata": {},
   "outputs": [],
   "source": [
    "X_train, X_test, y_train, y_test = train_test_split(X[GOOD_IV_FEATURE], Y, test_size=0.25, random_state=12345)"
   ]
  },
  {
   "cell_type": "code",
   "execution_count": 42,
   "metadata": {},
   "outputs": [],
   "source": [
    "model = CatBoostClassifier(iterations = 500\n",
    "                          , verbose=100\n",
    "                          , depth = 6\n",
    "                          , thread_count =20\n",
    "                          , eval_metric = 'AUC'                   \n",
    "                          )"
   ]
  },
  {
   "cell_type": "code",
   "execution_count": 43,
   "metadata": {},
   "outputs": [
    {
     "name": "stdout",
     "output_type": "stream",
     "text": [
      "Learning rate set to 0.146157\n",
      "0:\ttotal: 169ms\tremaining: 1m 24s\n",
      "100:\ttotal: 1.47s\tremaining: 5.8s\n",
      "200:\ttotal: 2.82s\tremaining: 4.2s\n",
      "300:\ttotal: 4.17s\tremaining: 2.76s\n",
      "400:\ttotal: 5.53s\tremaining: 1.37s\n",
      "499:\ttotal: 6.87s\tremaining: 0us\n"
     ]
    },
    {
     "data": {
      "text/plain": [
       "<catboost.core.CatBoostClassifier at 0x18fb4a54ac0>"
      ]
     },
     "execution_count": 43,
     "metadata": {},
     "output_type": "execute_result"
    }
   ],
   "source": [
    "model.fit(X_train, y_train)"
   ]
  },
  {
   "cell_type": "code",
   "execution_count": 44,
   "metadata": {},
   "outputs": [],
   "source": [
    "shap_test = shap.TreeExplainer(model).shap_values(X_test)"
   ]
  },
  {
   "cell_type": "code",
   "execution_count": 45,
   "metadata": {},
   "outputs": [
    {
     "data": {
      "image/png": "[encoded data removed]",
      "text/plain": [
       "<Figure size 576x252 with 2 Axes>"
      ]
     },
     "metadata": {
      "needs_background": "light"
     },
     "output_type": "display_data"
    }
   ],
   "source": [
    "shap.summary_plot(shap_test, X_test, max_display=25, show=False)"
   ]
  },
  {
   "cell_type": "code",
   "execution_count": 46,
   "metadata": {},
   "outputs": [
    {
     "data": {
      "image/png": "[encoded data removed]",
      "text/plain": [
       "<Figure size 576x252 with 1 Axes>"
      ]
     },
     "metadata": {
      "needs_background": "light"
     },
     "output_type": "display_data"
    }
   ],
   "source": [
    "plt.savefig('plot.png', bbox_inches='tight')\n",
    "shap.summary_plot(shap_test, X_test, plot_type = 'bar')"
   ]
  },
  {
   "cell_type": "code",
   "execution_count": 47,
   "metadata": {},
   "outputs": [
    {
     "data": {
      "text/html": [
       "<div>\n",
       "<style scoped>\n",
       "    .dataframe tbody tr th:only-of-type {\n",
       "        vertical-align: middle;\n",
       "    }\n",
       "\n",
       "    .dataframe tbody tr th {\n",
       "        vertical-align: top;\n",
       "    }\n",
       "\n",
       "    .dataframe thead th {\n",
       "        text-align: right;\n",
       "    }\n",
       "</style>\n",
       "<table border=\"1\" class=\"dataframe\">\n",
       "  <thead>\n",
       "    <tr style=\"text-align: right;\">\n",
       "      <th></th>\n",
       "      <th>column_name</th>\n",
       "      <th>shap_importance</th>\n",
       "    </tr>\n",
       "  </thead>\n",
       "  <tbody>\n",
       "    <tr>\n",
       "      <th>0</th>\n",
       "      <td>RevolvingUtilizationOfUnsecuredLines</td>\n",
       "      <td>0.743979</td>\n",
       "    </tr>\n",
       "    <tr>\n",
       "      <th>1</th>\n",
       "      <td>NumberOfTime30-59DaysPastDueNotWorse</td>\n",
       "      <td>0.359323</td>\n",
       "    </tr>\n",
       "    <tr>\n",
       "      <th>3</th>\n",
       "      <td>age</td>\n",
       "      <td>0.311172</td>\n",
       "    </tr>\n",
       "    <tr>\n",
       "      <th>4</th>\n",
       "      <td>MonthlyIncome</td>\n",
       "      <td>0.167776</td>\n",
       "    </tr>\n",
       "    <tr>\n",
       "      <th>2</th>\n",
       "      <td>NumberOfTime60-89DaysPastDueNotWorse</td>\n",
       "      <td>0.164156</td>\n",
       "    </tr>\n",
       "  </tbody>\n",
       "</table>\n",
       "</div>"
      ],
      "text/plain": [
       "                            column_name shap_importance\n",
       "0  RevolvingUtilizationOfUnsecuredLines        0.743979\n",
       "1  NumberOfTime30-59DaysPastDueNotWorse        0.359323\n",
       "3                                   age        0.311172\n",
       "4                         MonthlyIncome        0.167776\n",
       "2  NumberOfTime60-89DaysPastDueNotWorse        0.164156"
      ]
     },
     "execution_count": 47,
     "metadata": {},
     "output_type": "execute_result"
    }
   ],
   "source": [
    "shap_sum = np.abs(shap_test).mean(axis=0)\n",
    "importance_df = pd.DataFrame([X_test.columns.tolist(), shap_sum.tolist()]).T\n",
    "importance_df.columns = ['column_name', 'shap_importance']\n",
    "importance_df = importance_df.sort_values('shap_importance', ascending=False)\n",
    "importance_df"
   ]
  },
  {
   "cell_type": "code",
   "execution_count": 48,
   "metadata": {},
   "outputs": [],
   "source": [
    "shap_good_var = importance_df['column_name'][:4]"
   ]
  },
  {
   "cell_type": "code",
   "execution_count": 49,
   "metadata": {},
   "outputs": [
    {
     "data": {
      "text/plain": [
       "0    RevolvingUtilizationOfUnsecuredLines\n",
       "1    NumberOfTime30-59DaysPastDueNotWorse\n",
       "3                                     age\n",
       "4                           MonthlyIncome\n",
       "Name: column_name, dtype: object"
      ]
     },
     "execution_count": 49,
     "metadata": {},
     "output_type": "execute_result"
    }
   ],
   "source": [
    "shap_good_var"
   ]
  },
  {
   "cell_type": "markdown",
   "metadata": {},
   "source": [
    "## MAUC_SELECT"
   ]
  },
  {
   "cell_type": "code",
   "execution_count": 50,
   "metadata": {},
   "outputs": [],
   "source": [
    "def mauc_select(data, Y, first_var):\n",
    "    filter_col = data.columns\n",
    "    drop_var = []\n",
    "    mauc_final = pd.DataFrame()\n",
    "    best_var = []\n",
    "    best_var.append(first_var)\n",
    "    \n",
    "    n = data[filter_col].shape[1]\n",
    "    X_train, X_test, y_train, y_test = train_test_split(data, Y, test_size=0.25, random_state=12345)\n",
    "    for i in range(n-1):\n",
    "        mauc = pd.DataFrame()\n",
    "        ctb_est = CatBoostClassifier(iterations=100\n",
    "                            , learning_rate=0.05\n",
    "                            , verbose=False\n",
    "                            , depth=8\n",
    "                            , thread_count=2)\n",
    "        ctb_est.fit(X_train[best_var], y_train)\n",
    "        \n",
    "        y_prob = ctb_est.predict_proba(X_test[best_var])[:, 1]\n",
    "        gini_best = 100*(2*roc_auc_score(y_test, y_prob) - 1)\n",
    "        for col in filter_col:\n",
    "            if col in drop_var or col in best_var:\n",
    "                continue\n",
    "            draft_var = best_var.copy()\n",
    "            draft_var.append(col)\n",
    "            ctb_est.fit(X_train[draft_var], y_train)\n",
    "            y_prob_draft = ctb_est.predict_proba(X_test[draft_var])[:, 1]\n",
    "            gini_draft = 100*(2*roc_auc_score(y_test, y_prob_draft) - 1)\n",
    "            \n",
    "            mgini = gini_draft - gini_best\n",
    "            if mgini < -0.5:\n",
    "                drop_var.append(col)\n",
    "            mauc_ = pd.DataFrame({'VAR_NAME': col, 'mauc': [mgini], 'gini': gini_draft})\n",
    "            mauc = mauc.append(mauc_, ignore_index=True)\n",
    "        if mauc.empty:\n",
    "            break\n",
    "        mauc = mauc.reset_index(drop=True)\n",
    "        max_mauc = mauc['mauc'].idxmax()\n",
    "        print(mauc)\n",
    "        if mauc['mauc'].max() > 0.1:\n",
    "            best_var.append(mauc['VAR_NAME'].iloc[max_mauc])\n",
    "            mauc_final = mauc_final.append(mauc.iloc[max_mauc])\n",
    "        else:\n",
    "            break\n",
    "        if len(best_var) > 25:\n",
    "            break\n",
    "    return best_var, mauc_final  "
   ]
  },
  {
   "cell_type": "code",
   "execution_count": 51,
   "metadata": {},
   "outputs": [
    {
     "name": "stdout",
     "output_type": "stream",
     "text": [
      "                               VAR_NAME      mauc       gini\n",
      "0  NumberOfTime30-59DaysPastDueNotWorse  8.081826  63.419098\n",
      "1                                   age  1.296401  56.633673\n",
      "2                         MonthlyIncome  0.836325  56.173597\n",
      "        VAR_NAME      mauc       gini\n",
      "0            age  0.989338  64.408436\n",
      "1  MonthlyIncome  0.449989  63.869086\n",
      "        VAR_NAME    mauc       gini\n",
      "0  MonthlyIncome  0.3551  64.763536\n"
     ]
    }
   ],
   "source": [
    "best_var, mauc_final = mauc_select(X[shap_good_var], Y, 'RevolvingUtilizationOfUnsecuredLines')"
   ]
  },
  {
   "cell_type": "code",
   "execution_count": 52,
   "metadata": {},
   "outputs": [
    {
     "data": {
      "text/html": [
       "<div>\n",
       "<style scoped>\n",
       "    .dataframe tbody tr th:only-of-type {\n",
       "        vertical-align: middle;\n",
       "    }\n",
       "\n",
       "    .dataframe tbody tr th {\n",
       "        vertical-align: top;\n",
       "    }\n",
       "\n",
       "    .dataframe thead th {\n",
       "        text-align: right;\n",
       "    }\n",
       "</style>\n",
       "<table border=\"1\" class=\"dataframe\">\n",
       "  <thead>\n",
       "    <tr style=\"text-align: right;\">\n",
       "      <th></th>\n",
       "      <th>VAR_NAME</th>\n",
       "      <th>gini</th>\n",
       "      <th>mauc</th>\n",
       "    </tr>\n",
       "  </thead>\n",
       "  <tbody>\n",
       "    <tr>\n",
       "      <th>0</th>\n",
       "      <td>NumberOfTime30-59DaysPastDueNotWorse</td>\n",
       "      <td>63.419098</td>\n",
       "      <td>8.081826</td>\n",
       "    </tr>\n",
       "    <tr>\n",
       "      <th>0</th>\n",
       "      <td>age</td>\n",
       "      <td>64.408436</td>\n",
       "      <td>0.989338</td>\n",
       "    </tr>\n",
       "    <tr>\n",
       "      <th>0</th>\n",
       "      <td>MonthlyIncome</td>\n",
       "      <td>64.763536</td>\n",
       "      <td>0.355100</td>\n",
       "    </tr>\n",
       "  </tbody>\n",
       "</table>\n",
       "</div>"
      ],
      "text/plain": [
       "                               VAR_NAME       gini      mauc\n",
       "0  NumberOfTime30-59DaysPastDueNotWorse  63.419098  8.081826\n",
       "0                                   age  64.408436  0.989338\n",
       "0                         MonthlyIncome  64.763536  0.355100"
      ]
     },
     "execution_count": 52,
     "metadata": {},
     "output_type": "execute_result"
    }
   ],
   "source": [
    "mauc_final"
   ]
  },
  {
   "cell_type": "code",
   "execution_count": 53,
   "metadata": {},
   "outputs": [
    {
     "data": {
      "text/plain": [
       "['RevolvingUtilizationOfUnsecuredLines',\n",
       " 'NumberOfTime30-59DaysPastDueNotWorse',\n",
       " 'age',\n",
       " 'MonthlyIncome']"
      ]
     },
     "execution_count": 53,
     "metadata": {},
     "output_type": "execute_result"
    }
   ],
   "source": [
    "best_var"
   ]
  },
  {
   "cell_type": "markdown",
   "metadata": {},
   "source": [
    "## SHAP_SELECT"
   ]
  },
  {
   "cell_type": "code",
   "execution_count": 54,
   "metadata": {},
   "outputs": [],
   "source": [
    "def mauc_shap(df, y):\n",
    "    draft_var = df.columns.tolist()\n",
    "    mauc_final = pd.DataFrame()\n",
    "    n = len(draft_var)\n",
    "    X_train, X_test, y_train, y_test = train_test_split(df, y, test_size=0.25, random_state=12345)\n",
    "    for i in range(n-1):\n",
    "        mauc = pd.DataFrame()\n",
    "        ctb_est = CatBoostClassifier(iterations = 100\n",
    "                            , learning_rate = 0.05\n",
    "                            , verbose = False\n",
    "                            , depth=8\n",
    "                            , thread_count = 2)\n",
    "        ctb_est.fit(X_train[draft_var], y_train)\n",
    "        y_prob_draft = ctb_est.predict_proba(X_test[draft_var])[:, 1]\n",
    "        gini_draft = 100*(2*roc_auc_score(y_test, y_prob_draft) - 1)\n",
    "        \n",
    "        n_vars = len(draft_var)\n",
    "        var_name = str(draft_var)\n",
    "        \n",
    "        shap_test = shap.TreeExplainer(ctb_est).shap_values(X_test[draft_var])\n",
    "        shap_sum = np.abs(shap_test).mean(axis=0)\n",
    "        importance_df = pd.DataFrame([X_test[draft_var].columns.tolist(), shap_sum.tolist()]).T\n",
    "        importance_df.columns = ['VARS', 'shap_importance']\n",
    "        importance_df = importance_df.sort_values('shap_importance', ascending=False)\n",
    "        \n",
    "        mauc = pd.DataFrame({'N_VARS': [n_vars], 'gini': [gini_draft], 'VAR_NAME': [var_name]})\n",
    "        mauc_final = mauc_final.append(mauc, ignore_index=True)\n",
    "        draft_var.remove(importance_df['VARS'].tail(1).tolist()[0])\n",
    "    return mauc_final"
   ]
  },
  {
   "cell_type": "code",
   "execution_count": 55,
   "metadata": {},
   "outputs": [],
   "source": [
    "mauc_shap_select = mauc_shap(X, Y)"
   ]
  },
  {
   "cell_type": "code",
   "execution_count": 56,
   "metadata": {},
   "outputs": [
    {
     "data": {
      "text/html": [
       "<div>\n",
       "<style scoped>\n",
       "    .dataframe tbody tr th:only-of-type {\n",
       "        vertical-align: middle;\n",
       "    }\n",
       "\n",
       "    .dataframe tbody tr th {\n",
       "        vertical-align: top;\n",
       "    }\n",
       "\n",
       "    .dataframe thead th {\n",
       "        text-align: right;\n",
       "    }\n",
       "</style>\n",
       "<table border=\"1\" class=\"dataframe\">\n",
       "  <thead>\n",
       "    <tr style=\"text-align: right;\">\n",
       "      <th></th>\n",
       "      <th>N_VARS</th>\n",
       "      <th>gini</th>\n",
       "      <th>VAR_NAME</th>\n",
       "    </tr>\n",
       "  </thead>\n",
       "  <tbody>\n",
       "    <tr>\n",
       "      <th>0</th>\n",
       "      <td>10</td>\n",
       "      <td>71.815480</td>\n",
       "      <td>['RevolvingUtilizationOfUnsecuredLines', 'age'...</td>\n",
       "    </tr>\n",
       "    <tr>\n",
       "      <th>1</th>\n",
       "      <td>9</td>\n",
       "      <td>71.440056</td>\n",
       "      <td>['RevolvingUtilizationOfUnsecuredLines', 'age'...</td>\n",
       "    </tr>\n",
       "    <tr>\n",
       "      <th>2</th>\n",
       "      <td>8</td>\n",
       "      <td>71.484048</td>\n",
       "      <td>['RevolvingUtilizationOfUnsecuredLines', 'age'...</td>\n",
       "    </tr>\n",
       "    <tr>\n",
       "      <th>3</th>\n",
       "      <td>7</td>\n",
       "      <td>71.109562</td>\n",
       "      <td>['RevolvingUtilizationOfUnsecuredLines', 'age'...</td>\n",
       "    </tr>\n",
       "    <tr>\n",
       "      <th>4</th>\n",
       "      <td>6</td>\n",
       "      <td>70.709430</td>\n",
       "      <td>['RevolvingUtilizationOfUnsecuredLines', 'age'...</td>\n",
       "    </tr>\n",
       "    <tr>\n",
       "      <th>5</th>\n",
       "      <td>5</td>\n",
       "      <td>68.956374</td>\n",
       "      <td>['RevolvingUtilizationOfUnsecuredLines', 'age'...</td>\n",
       "    </tr>\n",
       "    <tr>\n",
       "      <th>6</th>\n",
       "      <td>4</td>\n",
       "      <td>68.072725</td>\n",
       "      <td>['RevolvingUtilizationOfUnsecuredLines', 'age'...</td>\n",
       "    </tr>\n",
       "    <tr>\n",
       "      <th>7</th>\n",
       "      <td>3</td>\n",
       "      <td>64.345815</td>\n",
       "      <td>['RevolvingUtilizationOfUnsecuredLines', 'age'...</td>\n",
       "    </tr>\n",
       "    <tr>\n",
       "      <th>8</th>\n",
       "      <td>2</td>\n",
       "      <td>63.419098</td>\n",
       "      <td>['RevolvingUtilizationOfUnsecuredLines', 'Numb...</td>\n",
       "    </tr>\n",
       "  </tbody>\n",
       "</table>\n",
       "</div>"
      ],
      "text/plain": [
       "   N_VARS       gini                                           VAR_NAME\n",
       "0      10  71.815480  ['RevolvingUtilizationOfUnsecuredLines', 'age'...\n",
       "1       9  71.440056  ['RevolvingUtilizationOfUnsecuredLines', 'age'...\n",
       "2       8  71.484048  ['RevolvingUtilizationOfUnsecuredLines', 'age'...\n",
       "3       7  71.109562  ['RevolvingUtilizationOfUnsecuredLines', 'age'...\n",
       "4       6  70.709430  ['RevolvingUtilizationOfUnsecuredLines', 'age'...\n",
       "5       5  68.956374  ['RevolvingUtilizationOfUnsecuredLines', 'age'...\n",
       "6       4  68.072725  ['RevolvingUtilizationOfUnsecuredLines', 'age'...\n",
       "7       3  64.345815  ['RevolvingUtilizationOfUnsecuredLines', 'age'...\n",
       "8       2  63.419098  ['RevolvingUtilizationOfUnsecuredLines', 'Numb..."
      ]
     },
     "execution_count": 56,
     "metadata": {},
     "output_type": "execute_result"
    }
   ],
   "source": [
    "mauc_shap_select"
   ]
  },
  {
   "cell_type": "code",
   "execution_count": 57,
   "metadata": {},
   "outputs": [
    {
     "data": {
      "image/png": "[encoded data removed]",
      "text/plain": [
       "<Figure size 1440x432 with 1 Axes>"
      ]
     },
     "metadata": {
      "needs_background": "light"
     },
     "output_type": "display_data"
    }
   ],
   "source": [
    "mauc_shap_select.plot(x='N_VARS', y='gini', figsize=(20,6))\n",
    "plt.savefig('gini_by_nvars.png')\n",
    "plt.show()"
   ]
  },
  {
   "cell_type": "code",
   "execution_count": 58,
   "metadata": {},
   "outputs": [],
   "source": [
    "good_shap = mauc_shap_select.iloc[3]"
   ]
  },
  {
   "cell_type": "code",
   "execution_count": 59,
   "metadata": {},
   "outputs": [],
   "source": [
    "good_shap = ast.literal_eval(good_shap['VAR_NAME'])"
   ]
  },
  {
   "cell_type": "code",
   "execution_count": 60,
   "metadata": {},
   "outputs": [
    {
     "data": {
      "text/plain": [
       "['RevolvingUtilizationOfUnsecuredLines',\n",
       " 'age',\n",
       " 'NumberOfTime30-59DaysPastDueNotWorse',\n",
       " 'DebtRatio',\n",
       " 'NumberOfOpenCreditLinesAndLoans',\n",
       " 'NumberOfTimes90DaysLate',\n",
       " 'NumberOfTime60-89DaysPastDueNotWorse']"
      ]
     },
     "execution_count": 60,
     "metadata": {},
     "output_type": "execute_result"
    }
   ],
   "source": [
    "good_shap"
   ]
  },
  {
   "cell_type": "markdown",
   "metadata": {},
   "source": [
    "## ONLY GOOD VAR"
   ]
  },
  {
   "cell_type": "markdown",
   "metadata": {},
   "source": [
    "### LOGREG"
   ]
  },
  {
   "cell_type": "markdown",
   "metadata": {},
   "source": [
    "### 1.Train_TEST"
   ]
  },
  {
   "cell_type": "code",
   "execution_count": 61,
   "metadata": {},
   "outputs": [],
   "source": [
    "GOOD_VAR_IV =['RevolvingUtilizationOfUnsecuredLines',\n",
    "                'NumberOfTime30-59DaysPastDueNotWorse',\n",
    "                'NumberOfTime60-89DaysPastDueNotWorse',\n",
    "                'age']"
   ]
  },
  {
   "cell_type": "code",
   "execution_count": 63,
   "metadata": {},
   "outputs": [],
   "source": [
    "X_train, X_test, y_train, y_test = train_test_split(X[GOOD_VAR_IV], Y, test_size=0.25, random_state=15)"
   ]
  },
  {
   "cell_type": "code",
   "execution_count": 64,
   "metadata": {},
   "outputs": [
    {
     "name": "stderr",
     "output_type": "stream",
     "text": [
      "2023-09-02 19:11:04,419 — Mobpy — DEBUG — e1: \n"
     ]
    }
   ],
   "source": [
    "woe_iv_all, bad_columns = create_woe_iv(X_train, y_train, min_bin_size = 0.02)"
   ]
  },
  {
   "cell_type": "code",
   "execution_count": 65,
   "metadata": {},
   "outputs": [
    {
     "data": {
      "text/html": [
       "<div>\n",
       "<style scoped>\n",
       "    .dataframe tbody tr th:only-of-type {\n",
       "        vertical-align: middle;\n",
       "    }\n",
       "\n",
       "    .dataframe tbody tr th {\n",
       "        vertical-align: top;\n",
       "    }\n",
       "\n",
       "    .dataframe thead th {\n",
       "        text-align: right;\n",
       "    }\n",
       "</style>\n",
       "<table border=\"1\" class=\"dataframe\">\n",
       "  <thead>\n",
       "    <tr style=\"text-align: right;\">\n",
       "      <th></th>\n",
       "      <th>VAR_NAME</th>\n",
       "      <th>BUCKET</th>\n",
       "      <th>MIN_VALUE</th>\n",
       "      <th>MAX_VALUE</th>\n",
       "      <th>SHARE</th>\n",
       "      <th>COUNT</th>\n",
       "      <th>EVENT</th>\n",
       "      <th>NON_EVENT</th>\n",
       "      <th>EVENT_RATE</th>\n",
       "      <th>NON_EVENT_RATE</th>\n",
       "      <th>DIST_EVENT</th>\n",
       "      <th>DIST_NON_EVENT</th>\n",
       "      <th>WOE</th>\n",
       "      <th>IV</th>\n",
       "    </tr>\n",
       "  </thead>\n",
       "  <tbody>\n",
       "    <tr>\n",
       "      <th>0</th>\n",
       "      <td>RevolvingUtilizationOfUnsecuredLines</td>\n",
       "      <td>(-1000000000.0, 0.0829]</td>\n",
       "      <td>0.000000</td>\n",
       "      <td>0.019250</td>\n",
       "      <td>0.400000</td>\n",
       "      <td>45000</td>\n",
       "      <td>832</td>\n",
       "      <td>44168</td>\n",
       "      <td>0.018489</td>\n",
       "      <td>0.981511</td>\n",
       "      <td>0.111364</td>\n",
       "      <td>0.420531</td>\n",
       "      <td>1.328716</td>\n",
       "      <td>1.029217</td>\n",
       "    </tr>\n",
       "    <tr>\n",
       "      <th>1</th>\n",
       "      <td>RevolvingUtilizationOfUnsecuredLines</td>\n",
       "      <td>(0.0829, 0.272]</td>\n",
       "      <td>0.082953</td>\n",
       "      <td>0.271624</td>\n",
       "      <td>0.200000</td>\n",
       "      <td>22500</td>\n",
       "      <td>660</td>\n",
       "      <td>21840</td>\n",
       "      <td>0.029333</td>\n",
       "      <td>0.970667</td>\n",
       "      <td>0.088342</td>\n",
       "      <td>0.207943</td>\n",
       "      <td>0.856051</td>\n",
       "      <td>1.029217</td>\n",
       "    </tr>\n",
       "    <tr>\n",
       "      <th>2</th>\n",
       "      <td>RevolvingUtilizationOfUnsecuredLines</td>\n",
       "      <td>(0.272, 0.701]</td>\n",
       "      <td>0.271638</td>\n",
       "      <td>0.701376</td>\n",
       "      <td>0.200000</td>\n",
       "      <td>22500</td>\n",
       "      <td>1567</td>\n",
       "      <td>20933</td>\n",
       "      <td>0.069644</td>\n",
       "      <td>0.930356</td>\n",
       "      <td>0.209744</td>\n",
       "      <td>0.199307</td>\n",
       "      <td>-0.051044</td>\n",
       "      <td>1.029217</td>\n",
       "    </tr>\n",
       "    <tr>\n",
       "      <th>3</th>\n",
       "      <td>RevolvingUtilizationOfUnsecuredLines</td>\n",
       "      <td>(0.701, 1000000000.0]</td>\n",
       "      <td>0.701468</td>\n",
       "      <td>50708.000000</td>\n",
       "      <td>0.200000</td>\n",
       "      <td>22500</td>\n",
       "      <td>4412</td>\n",
       "      <td>18088</td>\n",
       "      <td>0.196089</td>\n",
       "      <td>0.803911</td>\n",
       "      <td>0.590550</td>\n",
       "      <td>0.172219</td>\n",
       "      <td>-1.232287</td>\n",
       "      <td>1.029217</td>\n",
       "    </tr>\n",
       "    <tr>\n",
       "      <th>4</th>\n",
       "      <td>NumberOfTime30-59DaysPastDueNotWorse</td>\n",
       "      <td>(-1000000000.0, 0.5]</td>\n",
       "      <td>0.000000</td>\n",
       "      <td>0.000000</td>\n",
       "      <td>0.840418</td>\n",
       "      <td>94547</td>\n",
       "      <td>3743</td>\n",
       "      <td>90804</td>\n",
       "      <td>0.039589</td>\n",
       "      <td>0.960411</td>\n",
       "      <td>0.501004</td>\n",
       "      <td>0.864561</td>\n",
       "      <td>0.545608</td>\n",
       "      <td>0.764834</td>\n",
       "    </tr>\n",
       "  </tbody>\n",
       "</table>\n",
       "</div>"
      ],
      "text/plain": [
       "                               VAR_NAME                   BUCKET  MIN_VALUE  \\\n",
       "0  RevolvingUtilizationOfUnsecuredLines  (-1000000000.0, 0.0829]   0.000000   \n",
       "1  RevolvingUtilizationOfUnsecuredLines          (0.0829, 0.272]   0.082953   \n",
       "2  RevolvingUtilizationOfUnsecuredLines           (0.272, 0.701]   0.271638   \n",
       "3  RevolvingUtilizationOfUnsecuredLines    (0.701, 1000000000.0]   0.701468   \n",
       "4  NumberOfTime30-59DaysPastDueNotWorse     (-1000000000.0, 0.5]   0.000000   \n",
       "\n",
       "      MAX_VALUE     SHARE  COUNT  EVENT  NON_EVENT  EVENT_RATE  \\\n",
       "0      0.019250  0.400000  45000    832      44168    0.018489   \n",
       "1      0.271624  0.200000  22500    660      21840    0.029333   \n",
       "2      0.701376  0.200000  22500   1567      20933    0.069644   \n",
       "3  50708.000000  0.200000  22500   4412      18088    0.196089   \n",
       "4      0.000000  0.840418  94547   3743      90804    0.039589   \n",
       "\n",
       "   NON_EVENT_RATE  DIST_EVENT  DIST_NON_EVENT       WOE        IV  \n",
       "0        0.981511    0.111364        0.420531  1.328716  1.029217  \n",
       "1        0.970667    0.088342        0.207943  0.856051  1.029217  \n",
       "2        0.930356    0.209744        0.199307 -0.051044  1.029217  \n",
       "3        0.803911    0.590550        0.172219 -1.232287  1.029217  \n",
       "4        0.960411    0.501004        0.864561  0.545608  0.764834  "
      ]
     },
     "execution_count": 65,
     "metadata": {},
     "output_type": "execute_result"
    }
   ],
   "source": [
    "woe_iv_all.head()"
   ]
  },
  {
   "cell_type": "code",
   "execution_count": 66,
   "metadata": {},
   "outputs": [],
   "source": [
    "X_train_woe = replace_feature_by_woe_optimal(X_train, woe_iv_all)\n",
    "X_test_woe = replace_feature_by_woe_optimal(X_test, woe_iv_all)"
   ]
  },
  {
   "cell_type": "code",
   "execution_count": 67,
   "metadata": {},
   "outputs": [],
   "source": [
    "X_train_woe = replace_feature_by_woe_optimal(X_train, woe_iv_all)\n",
    "X_test_woe = replace_feature_by_woe_optimal(X_test, woe_iv_all)"
   ]
  },
  {
   "cell_type": "code",
   "execution_count": 68,
   "metadata": {},
   "outputs": [
    {
     "data": {
      "text/html": [
       "<div>\n",
       "<style scoped>\n",
       "    .dataframe tbody tr th:only-of-type {\n",
       "        vertical-align: middle;\n",
       "    }\n",
       "\n",
       "    .dataframe tbody tr th {\n",
       "        vertical-align: top;\n",
       "    }\n",
       "\n",
       "    .dataframe thead th {\n",
       "        text-align: right;\n",
       "    }\n",
       "</style>\n",
       "<table border=\"1\" class=\"dataframe\">\n",
       "  <thead>\n",
       "    <tr style=\"text-align: right;\">\n",
       "      <th></th>\n",
       "      <th>WOE_RevolvingUtilizationOfUnsecuredLines</th>\n",
       "      <th>WOE_NumberOfTime30-59DaysPastDueNotWorse</th>\n",
       "      <th>WOE_NumberOfTime60-89DaysPastDueNotWorse</th>\n",
       "      <th>WOE_age</th>\n",
       "    </tr>\n",
       "  </thead>\n",
       "  <tbody>\n",
       "    <tr>\n",
       "      <th>76686</th>\n",
       "      <td>1.328716</td>\n",
       "      <td>0.545608</td>\n",
       "      <td>0.293725</td>\n",
       "      <td>-0.204376</td>\n",
       "    </tr>\n",
       "    <tr>\n",
       "      <th>149125</th>\n",
       "      <td>0.856051</td>\n",
       "      <td>0.545608</td>\n",
       "      <td>0.293725</td>\n",
       "      <td>0.984227</td>\n",
       "    </tr>\n",
       "    <tr>\n",
       "      <th>97182</th>\n",
       "      <td>0.856051</td>\n",
       "      <td>0.545608</td>\n",
       "      <td>0.293725</td>\n",
       "      <td>-0.204376</td>\n",
       "    </tr>\n",
       "    <tr>\n",
       "      <th>56561</th>\n",
       "      <td>-1.232287</td>\n",
       "      <td>0.545608</td>\n",
       "      <td>0.293725</td>\n",
       "      <td>-0.204376</td>\n",
       "    </tr>\n",
       "    <tr>\n",
       "      <th>34418</th>\n",
       "      <td>-0.051044</td>\n",
       "      <td>0.545608</td>\n",
       "      <td>0.293725</td>\n",
       "      <td>-0.460076</td>\n",
       "    </tr>\n",
       "  </tbody>\n",
       "</table>\n",
       "</div>"
      ],
      "text/plain": [
       "        WOE_RevolvingUtilizationOfUnsecuredLines  \\\n",
       "76686                                   1.328716   \n",
       "149125                                  0.856051   \n",
       "97182                                   0.856051   \n",
       "56561                                  -1.232287   \n",
       "34418                                  -0.051044   \n",
       "\n",
       "        WOE_NumberOfTime30-59DaysPastDueNotWorse  \\\n",
       "76686                                   0.545608   \n",
       "149125                                  0.545608   \n",
       "97182                                   0.545608   \n",
       "56561                                   0.545608   \n",
       "34418                                   0.545608   \n",
       "\n",
       "        WOE_NumberOfTime60-89DaysPastDueNotWorse   WOE_age  \n",
       "76686                                   0.293725 -0.204376  \n",
       "149125                                  0.293725  0.984227  \n",
       "97182                                   0.293725 -0.204376  \n",
       "56561                                   0.293725 -0.204376  \n",
       "34418                                   0.293725 -0.460076  "
      ]
     },
     "execution_count": 68,
     "metadata": {},
     "output_type": "execute_result"
    }
   ],
   "source": [
    "X_train_woe.head()"
   ]
  },
  {
   "cell_type": "markdown",
   "metadata": {},
   "source": [
    "### 2.FIT"
   ]
  },
  {
   "cell_type": "code",
   "execution_count": 69,
   "metadata": {},
   "outputs": [
    {
     "data": {
      "text/plain": [
       "LogisticRegression(C=1000000, random_state=5)"
      ]
     },
     "execution_count": 69,
     "metadata": {},
     "output_type": "execute_result"
    }
   ],
   "source": [
    "lr = LogisticRegression(random_state=5, C=10**6)\n",
    "lr.fit(X_train_woe, y_train)"
   ]
  },
  {
   "cell_type": "code",
   "execution_count": 70,
   "metadata": {},
   "outputs": [],
   "source": [
    "coefficients = pd.concat([pd.DataFrame(X_train_woe.columns), pd.DataFrame(np.transpose(lr.coef_))], axis=1)\n",
    "coefficients.columns = ['VAR_NAME', 'coef']\n",
    "\n",
    "intercept = pd.DataFrame({'VAR_NAME':['intercept'], 'coef':lr.intercept_})\n",
    "coefficients = pd.concat([intercept, coefficients])\n",
    "coefficients['score'] = np.floor(-coefficients['coef']*50/np.log(2))\n",
    "coefficients['score'] = np.where(coefficients['VAR_NAME'] == 'intercept', coefficients['score'] + 500, coefficients['score'])\n",
    "coefficients['VAR_NAME'] = coefficients[['VAR_NAME']].applymap(lambda x: str(x).lstrip('WOE_'))\n",
    "# coefficients['WOE'] = coefficients[['VAR_NAME']].applymap(lambda x: str(x).lstrip('_')[-1])\n",
    "# coefficients['WOE'] = coefficients[['WOE']].applymap(lambda x: x[:8])"
   ]
  },
  {
   "cell_type": "code",
   "execution_count": 71,
   "metadata": {},
   "outputs": [
    {
     "data": {
      "text/html": [
       "<div>\n",
       "<style scoped>\n",
       "    .dataframe tbody tr th:only-of-type {\n",
       "        vertical-align: middle;\n",
       "    }\n",
       "\n",
       "    .dataframe tbody tr th {\n",
       "        vertical-align: top;\n",
       "    }\n",
       "\n",
       "    .dataframe thead th {\n",
       "        text-align: right;\n",
       "    }\n",
       "</style>\n",
       "<table border=\"1\" class=\"dataframe\">\n",
       "  <thead>\n",
       "    <tr style=\"text-align: right;\">\n",
       "      <th></th>\n",
       "      <th>VAR_NAME</th>\n",
       "      <th>coef</th>\n",
       "      <th>score</th>\n",
       "    </tr>\n",
       "  </thead>\n",
       "  <tbody>\n",
       "    <tr>\n",
       "      <th>0</th>\n",
       "      <td>intercept</td>\n",
       "      <td>-2.627268</td>\n",
       "      <td>689.0</td>\n",
       "    </tr>\n",
       "    <tr>\n",
       "      <th>0</th>\n",
       "      <td>RevolvingUtilizationOfUnsecuredLines</td>\n",
       "      <td>-0.733266</td>\n",
       "      <td>52.0</td>\n",
       "    </tr>\n",
       "    <tr>\n",
       "      <th>1</th>\n",
       "      <td>NumberOfTime30-59DaysPastDueNotWorse</td>\n",
       "      <td>-0.610400</td>\n",
       "      <td>44.0</td>\n",
       "    </tr>\n",
       "    <tr>\n",
       "      <th>2</th>\n",
       "      <td>NumberOfTime60-89DaysPastDueNotWorse</td>\n",
       "      <td>-0.552750</td>\n",
       "      <td>39.0</td>\n",
       "    </tr>\n",
       "    <tr>\n",
       "      <th>3</th>\n",
       "      <td>age</td>\n",
       "      <td>-0.489859</td>\n",
       "      <td>35.0</td>\n",
       "    </tr>\n",
       "  </tbody>\n",
       "</table>\n",
       "</div>"
      ],
      "text/plain": [
       "                               VAR_NAME      coef  score\n",
       "0                             intercept -2.627268  689.0\n",
       "0  RevolvingUtilizationOfUnsecuredLines -0.733266   52.0\n",
       "1  NumberOfTime30-59DaysPastDueNotWorse -0.610400   44.0\n",
       "2  NumberOfTime60-89DaysPastDueNotWorse -0.552750   39.0\n",
       "3                                   age -0.489859   35.0"
      ]
     },
     "execution_count": 71,
     "metadata": {},
     "output_type": "execute_result"
    }
   ],
   "source": [
    "coefficients"
   ]
  },
  {
   "cell_type": "code",
   "execution_count": 72,
   "metadata": {},
   "outputs": [],
   "source": [
    "woe_iv_all['WOE'] = woe_iv_all[['WOE']].applymap(lambda x: str(x)[:8])"
   ]
  },
  {
   "cell_type": "code",
   "execution_count": 73,
   "metadata": {},
   "outputs": [
    {
     "data": {
      "text/html": [
       "<div>\n",
       "<style scoped>\n",
       "    .dataframe tbody tr th:only-of-type {\n",
       "        vertical-align: middle;\n",
       "    }\n",
       "\n",
       "    .dataframe tbody tr th {\n",
       "        vertical-align: top;\n",
       "    }\n",
       "\n",
       "    .dataframe thead th {\n",
       "        text-align: right;\n",
       "    }\n",
       "</style>\n",
       "<table border=\"1\" class=\"dataframe\">\n",
       "  <thead>\n",
       "    <tr style=\"text-align: right;\">\n",
       "      <th></th>\n",
       "      <th>VAR_NAME</th>\n",
       "      <th>BUCKET</th>\n",
       "      <th>MIN_VALUE</th>\n",
       "      <th>MAX_VALUE</th>\n",
       "      <th>SHARE</th>\n",
       "      <th>COUNT</th>\n",
       "      <th>EVENT</th>\n",
       "      <th>NON_EVENT</th>\n",
       "      <th>EVENT_RATE</th>\n",
       "      <th>NON_EVENT_RATE</th>\n",
       "      <th>DIST_EVENT</th>\n",
       "      <th>DIST_NON_EVENT</th>\n",
       "      <th>WOE</th>\n",
       "      <th>IV</th>\n",
       "    </tr>\n",
       "  </thead>\n",
       "  <tbody>\n",
       "    <tr>\n",
       "      <th>0</th>\n",
       "      <td>RevolvingUtilizationOfUnsecuredLines</td>\n",
       "      <td>(-1000000000.0, 0.0829]</td>\n",
       "      <td>0.000000</td>\n",
       "      <td>0.019250</td>\n",
       "      <td>0.400000</td>\n",
       "      <td>45000</td>\n",
       "      <td>832</td>\n",
       "      <td>44168</td>\n",
       "      <td>0.018489</td>\n",
       "      <td>0.981511</td>\n",
       "      <td>0.111364</td>\n",
       "      <td>0.420531</td>\n",
       "      <td>1.328715</td>\n",
       "      <td>1.029217</td>\n",
       "    </tr>\n",
       "    <tr>\n",
       "      <th>1</th>\n",
       "      <td>RevolvingUtilizationOfUnsecuredLines</td>\n",
       "      <td>(0.0829, 0.272]</td>\n",
       "      <td>0.082953</td>\n",
       "      <td>0.271624</td>\n",
       "      <td>0.200000</td>\n",
       "      <td>22500</td>\n",
       "      <td>660</td>\n",
       "      <td>21840</td>\n",
       "      <td>0.029333</td>\n",
       "      <td>0.970667</td>\n",
       "      <td>0.088342</td>\n",
       "      <td>0.207943</td>\n",
       "      <td>0.856050</td>\n",
       "      <td>1.029217</td>\n",
       "    </tr>\n",
       "    <tr>\n",
       "      <th>2</th>\n",
       "      <td>RevolvingUtilizationOfUnsecuredLines</td>\n",
       "      <td>(0.272, 0.701]</td>\n",
       "      <td>0.271638</td>\n",
       "      <td>0.701376</td>\n",
       "      <td>0.200000</td>\n",
       "      <td>22500</td>\n",
       "      <td>1567</td>\n",
       "      <td>20933</td>\n",
       "      <td>0.069644</td>\n",
       "      <td>0.930356</td>\n",
       "      <td>0.209744</td>\n",
       "      <td>0.199307</td>\n",
       "      <td>-0.05104</td>\n",
       "      <td>1.029217</td>\n",
       "    </tr>\n",
       "    <tr>\n",
       "      <th>3</th>\n",
       "      <td>RevolvingUtilizationOfUnsecuredLines</td>\n",
       "      <td>(0.701, 1000000000.0]</td>\n",
       "      <td>0.701468</td>\n",
       "      <td>50708.000000</td>\n",
       "      <td>0.200000</td>\n",
       "      <td>22500</td>\n",
       "      <td>4412</td>\n",
       "      <td>18088</td>\n",
       "      <td>0.196089</td>\n",
       "      <td>0.803911</td>\n",
       "      <td>0.590550</td>\n",
       "      <td>0.172219</td>\n",
       "      <td>-1.23228</td>\n",
       "      <td>1.029217</td>\n",
       "    </tr>\n",
       "    <tr>\n",
       "      <th>4</th>\n",
       "      <td>NumberOfTime30-59DaysPastDueNotWorse</td>\n",
       "      <td>(-1000000000.0, 0.5]</td>\n",
       "      <td>0.000000</td>\n",
       "      <td>0.000000</td>\n",
       "      <td>0.840418</td>\n",
       "      <td>94547</td>\n",
       "      <td>3743</td>\n",
       "      <td>90804</td>\n",
       "      <td>0.039589</td>\n",
       "      <td>0.960411</td>\n",
       "      <td>0.501004</td>\n",
       "      <td>0.864561</td>\n",
       "      <td>0.545608</td>\n",
       "      <td>0.764834</td>\n",
       "    </tr>\n",
       "  </tbody>\n",
       "</table>\n",
       "</div>"
      ],
      "text/plain": [
       "                               VAR_NAME                   BUCKET  MIN_VALUE  \\\n",
       "0  RevolvingUtilizationOfUnsecuredLines  (-1000000000.0, 0.0829]   0.000000   \n",
       "1  RevolvingUtilizationOfUnsecuredLines          (0.0829, 0.272]   0.082953   \n",
       "2  RevolvingUtilizationOfUnsecuredLines           (0.272, 0.701]   0.271638   \n",
       "3  RevolvingUtilizationOfUnsecuredLines    (0.701, 1000000000.0]   0.701468   \n",
       "4  NumberOfTime30-59DaysPastDueNotWorse     (-1000000000.0, 0.5]   0.000000   \n",
       "\n",
       "      MAX_VALUE     SHARE  COUNT  EVENT  NON_EVENT  EVENT_RATE  \\\n",
       "0      0.019250  0.400000  45000    832      44168    0.018489   \n",
       "1      0.271624  0.200000  22500    660      21840    0.029333   \n",
       "2      0.701376  0.200000  22500   1567      20933    0.069644   \n",
       "3  50708.000000  0.200000  22500   4412      18088    0.196089   \n",
       "4      0.000000  0.840418  94547   3743      90804    0.039589   \n",
       "\n",
       "   NON_EVENT_RATE  DIST_EVENT  DIST_NON_EVENT       WOE        IV  \n",
       "0        0.981511    0.111364        0.420531  1.328715  1.029217  \n",
       "1        0.970667    0.088342        0.207943  0.856050  1.029217  \n",
       "2        0.930356    0.209744        0.199307  -0.05104  1.029217  \n",
       "3        0.803911    0.590550        0.172219  -1.23228  1.029217  \n",
       "4        0.960411    0.501004        0.864561  0.545608  0.764834  "
      ]
     },
     "execution_count": 73,
     "metadata": {},
     "output_type": "execute_result"
    }
   ],
   "source": [
    "woe_iv_all.head()"
   ]
  },
  {
   "cell_type": "code",
   "execution_count": 74,
   "metadata": {},
   "outputs": [
    {
     "data": {
      "text/html": [
       "<div>\n",
       "<style scoped>\n",
       "    .dataframe tbody tr th:only-of-type {\n",
       "        vertical-align: middle;\n",
       "    }\n",
       "\n",
       "    .dataframe tbody tr th {\n",
       "        vertical-align: top;\n",
       "    }\n",
       "\n",
       "    .dataframe thead th {\n",
       "        text-align: right;\n",
       "    }\n",
       "</style>\n",
       "<table border=\"1\" class=\"dataframe\">\n",
       "  <thead>\n",
       "    <tr style=\"text-align: right;\">\n",
       "      <th></th>\n",
       "      <th>VAR_NAME</th>\n",
       "      <th>MIN_VALUE</th>\n",
       "      <th>MAX_VALUE</th>\n",
       "      <th>WOE</th>\n",
       "      <th>coef</th>\n",
       "      <th>score</th>\n",
       "    </tr>\n",
       "  </thead>\n",
       "  <tbody>\n",
       "    <tr>\n",
       "      <th>0</th>\n",
       "      <td>RevolvingUtilizationOfUnsecuredLines</td>\n",
       "      <td>0.000000</td>\n",
       "      <td>0.019250</td>\n",
       "      <td>1.328715</td>\n",
       "      <td>-0.733266</td>\n",
       "      <td>52.0</td>\n",
       "    </tr>\n",
       "    <tr>\n",
       "      <th>1</th>\n",
       "      <td>RevolvingUtilizationOfUnsecuredLines</td>\n",
       "      <td>0.082953</td>\n",
       "      <td>0.271624</td>\n",
       "      <td>0.856050</td>\n",
       "      <td>-0.733266</td>\n",
       "      <td>52.0</td>\n",
       "    </tr>\n",
       "    <tr>\n",
       "      <th>2</th>\n",
       "      <td>RevolvingUtilizationOfUnsecuredLines</td>\n",
       "      <td>0.271638</td>\n",
       "      <td>0.701376</td>\n",
       "      <td>-0.05104</td>\n",
       "      <td>-0.733266</td>\n",
       "      <td>52.0</td>\n",
       "    </tr>\n",
       "    <tr>\n",
       "      <th>3</th>\n",
       "      <td>RevolvingUtilizationOfUnsecuredLines</td>\n",
       "      <td>0.701468</td>\n",
       "      <td>50708.000000</td>\n",
       "      <td>-1.23228</td>\n",
       "      <td>-0.733266</td>\n",
       "      <td>52.0</td>\n",
       "    </tr>\n",
       "    <tr>\n",
       "      <th>4</th>\n",
       "      <td>NumberOfTime30-59DaysPastDueNotWorse</td>\n",
       "      <td>0.000000</td>\n",
       "      <td>0.000000</td>\n",
       "      <td>0.545608</td>\n",
       "      <td>-0.610400</td>\n",
       "      <td>44.0</td>\n",
       "    </tr>\n",
       "  </tbody>\n",
       "</table>\n",
       "</div>"
      ],
      "text/plain": [
       "                               VAR_NAME  MIN_VALUE     MAX_VALUE       WOE  \\\n",
       "0  RevolvingUtilizationOfUnsecuredLines   0.000000      0.019250  1.328715   \n",
       "1  RevolvingUtilizationOfUnsecuredLines   0.082953      0.271624  0.856050   \n",
       "2  RevolvingUtilizationOfUnsecuredLines   0.271638      0.701376  -0.05104   \n",
       "3  RevolvingUtilizationOfUnsecuredLines   0.701468  50708.000000  -1.23228   \n",
       "4  NumberOfTime30-59DaysPastDueNotWorse   0.000000      0.000000  0.545608   \n",
       "\n",
       "       coef  score  \n",
       "0 -0.733266   52.0  \n",
       "1 -0.733266   52.0  \n",
       "2 -0.733266   52.0  \n",
       "3 -0.733266   52.0  \n",
       "4 -0.610400   44.0  "
      ]
     },
     "execution_count": 74,
     "metadata": {},
     "output_type": "execute_result"
    }
   ],
   "source": [
    "scorecard = pd.merge(woe_iv_all[['VAR_NAME', 'MIN_VALUE', 'MAX_VALUE', 'WOE']],\n",
    "                    coefficients[['VAR_NAME','coef', 'score']], on='VAR_NAME', how = 'left')\n",
    "scorecard = pd.concat([scorecard, coefficients[coefficients['VAR_NAME']=='intercept']])\n",
    "scorecard.head()"
   ]
  },
  {
   "cell_type": "code",
   "execution_count": 75,
   "metadata": {},
   "outputs": [],
   "source": [
    "# scorecard = pd.merge(woe_iv_all[['VAR_NAME', 'MIN_VALUE', 'MAX_VALUE', 'WOE']],\n",
    "#                     coefficients[['coef', 'score', 'WOE']], on='WOE', how = 'left')\n",
    "# scorecard['score'] = np.where(np.isnan(scorecard['score']), 0, scorecard['score'])\n",
    "# scorecard = pd.concat([scorecard, coefficients[coefficients['VAR_NAME']=='intercept']])\n",
    "# scorecard"
   ]
  },
  {
   "cell_type": "markdown",
   "metadata": {},
   "source": [
    "### 3.Evaluate"
   ]
  },
  {
   "cell_type": "markdown",
   "metadata": {},
   "source": [
    "### 3.1 Gini"
   ]
  },
  {
   "cell_type": "code",
   "execution_count": 76,
   "metadata": {},
   "outputs": [],
   "source": [
    "y_prob_train = lr.predict_proba(X_train_woe)\n",
    "roc_auc = roc_auc_score(y_train, y_prob_train[:,1])\n",
    "gini_train = 2 * roc_auc - 1"
   ]
  },
  {
   "cell_type": "code",
   "execution_count": 77,
   "metadata": {},
   "outputs": [],
   "source": [
    "y_prob_test = lr.predict_proba(X_test_woe)\n",
    "roc_auc = roc_auc_score(y_test, y_prob_test[:,1])\n",
    "gini_test = 2 * roc_auc - 1"
   ]
  },
  {
   "cell_type": "code",
   "execution_count": 78,
   "metadata": {},
   "outputs": [
    {
     "data": {
      "text/html": [
       "<div>\n",
       "<style scoped>\n",
       "    .dataframe tbody tr th:only-of-type {\n",
       "        vertical-align: middle;\n",
       "    }\n",
       "\n",
       "    .dataframe tbody tr th {\n",
       "        vertical-align: top;\n",
       "    }\n",
       "\n",
       "    .dataframe thead th {\n",
       "        text-align: right;\n",
       "    }\n",
       "</style>\n",
       "<table border=\"1\" class=\"dataframe\">\n",
       "  <thead>\n",
       "    <tr style=\"text-align: right;\">\n",
       "      <th></th>\n",
       "      <th>TRAIN</th>\n",
       "      <th>TEST</th>\n",
       "    </tr>\n",
       "  </thead>\n",
       "  <tbody>\n",
       "    <tr>\n",
       "      <th>0</th>\n",
       "      <td>0.667366</td>\n",
       "      <td>0.677735</td>\n",
       "    </tr>\n",
       "  </tbody>\n",
       "</table>\n",
       "</div>"
      ],
      "text/plain": [
       "      TRAIN      TEST\n",
       "0  0.667366  0.677735"
      ]
     },
     "execution_count": 78,
     "metadata": {},
     "output_type": "execute_result"
    }
   ],
   "source": [
    "gini_train_test = pd.DataFrame({'TRAIN': [gini_train], 'TEST': [gini_test]})\n",
    "gini_train_test"
   ]
  },
  {
   "cell_type": "markdown",
   "metadata": {},
   "source": [
    "### 3.2 VIF"
   ]
  },
  {
   "cell_type": "code",
   "execution_count": 79,
   "metadata": {},
   "outputs": [],
   "source": [
    "from statsmodels.stats.outliers_influence import variance_inflation_factor"
   ]
  },
  {
   "cell_type": "code",
   "execution_count": 80,
   "metadata": {},
   "outputs": [],
   "source": [
    "def vif(df):\n",
    "    vif = pd.DataFrame()\n",
    "    vif['VIF_Factor'] = [variance_inflation_factor(df.values, i) for i in range(df.shape[1])]\n",
    "    vif['Feature'] = df.columns\n",
    "    return vif"
   ]
  },
  {
   "cell_type": "code",
   "execution_count": 81,
   "metadata": {},
   "outputs": [
    {
     "data": {
      "text/html": [
       "<div>\n",
       "<style scoped>\n",
       "    .dataframe tbody tr th:only-of-type {\n",
       "        vertical-align: middle;\n",
       "    }\n",
       "\n",
       "    .dataframe tbody tr th {\n",
       "        vertical-align: top;\n",
       "    }\n",
       "\n",
       "    .dataframe thead th {\n",
       "        text-align: right;\n",
       "    }\n",
       "</style>\n",
       "<table border=\"1\" class=\"dataframe\">\n",
       "  <thead>\n",
       "    <tr style=\"text-align: right;\">\n",
       "      <th></th>\n",
       "      <th>VIF_Factor</th>\n",
       "      <th>Feature</th>\n",
       "    </tr>\n",
       "  </thead>\n",
       "  <tbody>\n",
       "    <tr>\n",
       "      <th>0</th>\n",
       "      <td>1.299730</td>\n",
       "      <td>WOE_RevolvingUtilizationOfUnsecuredLines</td>\n",
       "    </tr>\n",
       "    <tr>\n",
       "      <th>1</th>\n",
       "      <td>1.278357</td>\n",
       "      <td>WOE_NumberOfTime30-59DaysPastDueNotWorse</td>\n",
       "    </tr>\n",
       "    <tr>\n",
       "      <th>2</th>\n",
       "      <td>1.218839</td>\n",
       "      <td>WOE_NumberOfTime60-89DaysPastDueNotWorse</td>\n",
       "    </tr>\n",
       "    <tr>\n",
       "      <th>3</th>\n",
       "      <td>1.120123</td>\n",
       "      <td>WOE_age</td>\n",
       "    </tr>\n",
       "  </tbody>\n",
       "</table>\n",
       "</div>"
      ],
      "text/plain": [
       "   VIF_Factor                                   Feature\n",
       "0    1.299730  WOE_RevolvingUtilizationOfUnsecuredLines\n",
       "1    1.278357  WOE_NumberOfTime30-59DaysPastDueNotWorse\n",
       "2    1.218839  WOE_NumberOfTime60-89DaysPastDueNotWorse\n",
       "3    1.120123                                   WOE_age"
      ]
     },
     "execution_count": 81,
     "metadata": {},
     "output_type": "execute_result"
    }
   ],
   "source": [
    "vif_factor = vif(X_train_woe)\n",
    "vif_factor"
   ]
  },
  {
   "cell_type": "markdown",
   "metadata": {},
   "source": [
    "# Save Model Report"
   ]
  },
  {
   "cell_type": "code",
   "execution_count": 84,
   "metadata": {},
   "outputs": [],
   "source": [
    "writer = pd.ExcelWriter('model_report.xlsx', engine='xlsxwriter')\n",
    "\n",
    "IV_GOOD.to_excel(writer, sheet_name='IV')\n",
    "\n",
    "coefficients.to_excel(writer, sheet_name='COEF', index=False)\n",
    "\n",
    "scorecard.to_excel(writer, sheet_name='SCORECARD', index=False)\n",
    "\n",
    "gini_train_test.to_excel(writer, sheet_name='GINI', index=False)\n",
    "\n",
    "vif_factor.to_excel(writer, sheet_name='VIF', index=False)\n",
    "\n",
    "# gini_month.to_excel(writer, sheet_name='GINI_MONTH')\n",
    "\n",
    "# PD_DR_BY_VARS_BUCKET.to_excel(writer, sheet_name='PD_DR_BY_VARS_BUCKET')\n",
    "\n",
    "# psi_by_vars.to_excel(writer, sheet_name='PSI')\n",
    "\n",
    "writer.save()"
   ]
  },
  {
   "cell_type": "markdown",
   "metadata": {},
   "source": [
    "### CATBOOST"
   ]
  },
  {
   "cell_type": "code",
   "execution_count": null,
   "metadata": {},
   "outputs": [],
   "source": []
  }
 ],
 "metadata": {
  "kernelspec": {
   "display_name": "Python 3",
   "language": "python",
   "name": "python3"
  },
  "language_info": {
   "codemirror_mode": {
    "name": "ipython",
    "version": 3
   },
   "file_extension": ".py",
   "mimetype": "text/x-python",
   "name": "python",
   "nbconvert_exporter": "python",
   "pygments_lexer": "ipython3",
   "version": "3.8.5"
  }
 },
 "nbformat": 4,
 "nbformat_minor": 4
}
